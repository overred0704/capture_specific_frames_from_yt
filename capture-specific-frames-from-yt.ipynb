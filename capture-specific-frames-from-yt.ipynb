{
  "nbformat": 4,
  "nbformat_minor": 0,
  "metadata": {
    "colab": {
      "name": "capture specific frames from yt.ipynb",
      "provenance": [],
      "collapsed_sections": [],
      "toc_visible": true
    },
    "kernelspec": {
      "name": "python3",
      "display_name": "Python 3"
    },
    "language_info": {
      "name": "python"
    },
    "accelerator": "GPU"
  },
  "cells": [
    {
      "cell_type": "code",
      "metadata": {
        "id": "HJWCvSyAj3RF",
        "colab": {
          "base_uri": "https://localhost:8080/"
        },
        "outputId": "69da081f-83a9-4ad4-ca31-d3c36de501df"
      },
      "source": [
        "!pip install youtube_dl\n",
        "!pip install pafy"
      ],
      "execution_count": null,
      "outputs": [
        {
          "output_type": "stream",
          "text": [
            "Collecting youtube_dl\n",
            "\u001b[?25l  Downloading https://files.pythonhosted.org/packages/f4/93/3faf0e257fe2d37672901b46739bf63e198066e53dd02d956d6b2daa9c49/youtube_dl-2021.4.26-py2.py3-none-any.whl (1.9MB)\n",
            "\u001b[K     |████████████████████████████████| 1.9MB 7.7MB/s \n",
            "\u001b[?25hInstalling collected packages: youtube-dl\n",
            "Successfully installed youtube-dl-2021.4.26\n",
            "Collecting pafy\n",
            "  Downloading https://files.pythonhosted.org/packages/74/69/829919eeadff695338f98fa12bb99e45490761a2010c8d688d88b6df194a/pafy-0.5.5-py2.py3-none-any.whl\n",
            "Installing collected packages: pafy\n",
            "Successfully installed pafy-0.5.5\n"
          ],
          "name": "stdout"
        }
      ]
    },
    {
      "cell_type": "code",
      "metadata": {
        "id": "AADDfHkzgzMa"
      },
      "source": [
        "import pafy, cv2"
      ],
      "execution_count": null,
      "outputs": []
    },
    {
      "cell_type": "code",
      "metadata": {
        "id": "-XE8ujVy-AAM"
      },
      "source": [
        "def resize(output_convert):\n",
        "\n",
        "  cap = cv2.VideoCapture('output.mp4')\n",
        "  fourcc = cv2.VideoWriter_fourcc(*'MP4V')\n",
        "  out = cv2.VideoWriter(output_convert , fourcc, 30, (1980,1280))\n",
        "\n",
        "  while True:\n",
        "    ret, frame = cap.read()\n",
        "    if ret == True:\n",
        "        b = cv2.resize(frame,(1980,1280),fx=0,fy=0, interpolation = cv2.INTER_CUBIC)\n",
        "        out.write(b)\n",
        "    else:\n",
        "        break\n",
        "  cap.release()\n",
        "  out.release()\n",
        "  cv2.destroyAllWindows()"
      ],
      "execution_count": null,
      "outputs": []
    },
    {
      "cell_type": "code",
      "metadata": {
        "id": "qnXFlOkE0J_x"
      },
      "source": [
        "def videocap(URL, Collistion_Time, output):\n",
        "  url = URL\n",
        "\n",
        "  #get yt video\n",
        "  vPafy = pafy.new(url)\n",
        "  play = vPafy.getbest()\n",
        "  video = play.url\n",
        "\n",
        "  #set path\n",
        "  INPUT_FILE = video\n",
        "  #OUTPUT_FILE = output\n",
        "\n",
        "  #讀入影片相關資訊\n",
        "  reader = cv2.VideoCapture(INPUT_FILE)\n",
        "  width = int(reader.get(cv2.CAP_PROP_FRAME_WIDTH))\n",
        "  height = int(reader.get(cv2.CAP_PROP_FRAME_HEIGHT))\n",
        "\n",
        "  print('width: ',width,'height: ', height)\n",
        "  print('影片是否開啟:',reader.isOpened())\n",
        "\n",
        "  #set fps\n",
        "  fps = reader.get(cv2.CAP_PROP_FPS)      \n",
        "  frame_count = int(reader.get(cv2.CAP_PROP_FRAME_COUNT))\n",
        "  duration = frame_count/fps\n",
        "  print('fps:',fps, 'total frame:',frame_count, 'video length:', duration)\n",
        "\n",
        "  #second to frame\n",
        "  collision_time = float(Collistion_Time)\n",
        "  collision_frames = collision_time * fps\n",
        "  print('碰撞禎數:',collision_frames)\n",
        "\n",
        "  #set frame\n",
        "  start_frame = int(collision_frames) \n",
        "  need_frame = 92 #取92 frame\n",
        "\n",
        "  #set video writer\n",
        "  writer = cv2.VideoWriter('output.mp4', \n",
        "              cv2.VideoWriter_fourcc(*'MP4V'), #設定編碼格式\n",
        "              fps, # fps\n",
        "              (width, height), # resolution #1920*1080\n",
        "              True) #儲存彩色影片\n",
        "\n",
        "  #開始抓需要的frame\n",
        "  have_more_frame = True\n",
        "  c = 0\n",
        "  while have_more_frame:\n",
        "    have_more_frame, frame = reader.read()\n",
        "    c += 1\n",
        "    \n",
        "    if c >= (start_frame-need_frame):\n",
        "      cv2.waitKey(1)\n",
        "      writer.write(frame)\n",
        "      print(str(c) + ' is ok')\n",
        "\n",
        "    if c > start_frame:\n",
        "      print('completely!')\n",
        "      break\n",
        "\n",
        "\n",
        "  writer.release()\n",
        "  reader.release()\n",
        "  cv2.destroyAllWindows()\n",
        "\n",
        "  #轉換長寬\n",
        "  resize(output)"
      ],
      "execution_count": null,
      "outputs": []
    },
    {
      "cell_type": "code",
      "metadata": {
        "id": "ODFGBgcy2NXr"
      },
      "source": [
        "url = 'https://www.youtube.com/watch?v=TPXk71Gd6uA'\n",
        "collision_time = 40\n",
        "output = 'final.mp4'"
      ],
      "execution_count": null,
      "outputs": []
    },
    {
      "cell_type": "code",
      "metadata": {
        "colab": {
          "base_uri": "https://localhost:8080/"
        },
        "id": "RXADkzOC1mjz",
        "outputId": "6a10cc7a-a9e9-44a1-b935-c23f1282f39a"
      },
      "source": [
        "videocap(url, collision_time, output)"
      ],
      "execution_count": null,
      "outputs": [
        {
          "output_type": "stream",
          "text": [
            "width:  1280 height:  720\n",
            "影片是否開啟: True\n",
            "fps: 30.0 total frame: 10838 video length: 361.26666666666665\n",
            "碰撞禎數: 1200.0\n",
            "1108 is ok\n",
            "1109 is ok\n",
            "1110 is ok\n",
            "1111 is ok\n",
            "1112 is ok\n",
            "1113 is ok\n",
            "1114 is ok\n",
            "1115 is ok\n",
            "1116 is ok\n",
            "1117 is ok\n",
            "1118 is ok\n",
            "1119 is ok\n",
            "1120 is ok\n",
            "1121 is ok\n",
            "1122 is ok\n",
            "1123 is ok\n",
            "1124 is ok\n",
            "1125 is ok\n",
            "1126 is ok\n",
            "1127 is ok\n",
            "1128 is ok\n",
            "1129 is ok\n",
            "1130 is ok\n",
            "1131 is ok\n",
            "1132 is ok\n",
            "1133 is ok\n",
            "1134 is ok\n",
            "1135 is ok\n",
            "1136 is ok\n",
            "1137 is ok\n",
            "1138 is ok\n",
            "1139 is ok\n",
            "1140 is ok\n",
            "1141 is ok\n",
            "1142 is ok\n",
            "1143 is ok\n",
            "1144 is ok\n",
            "1145 is ok\n",
            "1146 is ok\n",
            "1147 is ok\n",
            "1148 is ok\n",
            "1149 is ok\n",
            "1150 is ok\n",
            "1151 is ok\n",
            "1152 is ok\n",
            "1153 is ok\n",
            "1154 is ok\n",
            "1155 is ok\n",
            "1156 is ok\n",
            "1157 is ok\n",
            "1158 is ok\n",
            "1159 is ok\n",
            "1160 is ok\n",
            "1161 is ok\n",
            "1162 is ok\n",
            "1163 is ok\n",
            "1164 is ok\n",
            "1165 is ok\n",
            "1166 is ok\n",
            "1167 is ok\n",
            "1168 is ok\n",
            "1169 is ok\n",
            "1170 is ok\n",
            "1171 is ok\n",
            "1172 is ok\n",
            "1173 is ok\n",
            "1174 is ok\n",
            "1175 is ok\n",
            "1176 is ok\n",
            "1177 is ok\n",
            "1178 is ok\n",
            "1179 is ok\n",
            "1180 is ok\n",
            "1181 is ok\n",
            "1182 is ok\n",
            "1183 is ok\n",
            "1184 is ok\n",
            "1185 is ok\n",
            "1186 is ok\n",
            "1187 is ok\n",
            "1188 is ok\n",
            "1189 is ok\n",
            "1190 is ok\n",
            "1191 is ok\n",
            "1192 is ok\n",
            "1193 is ok\n",
            "1194 is ok\n",
            "1195 is ok\n",
            "1196 is ok\n",
            "1197 is ok\n",
            "1198 is ok\n",
            "1199 is ok\n",
            "1200 is ok\n",
            "1201 is ok\n",
            "completely!\n"
          ],
          "name": "stdout"
        }
      ]
    },
    {
      "cell_type": "code",
      "metadata": {
        "id": "XHi0TB_fi10B"
      },
      "source": [
        ""
      ],
      "execution_count": null,
      "outputs": []
    }
  ]
}